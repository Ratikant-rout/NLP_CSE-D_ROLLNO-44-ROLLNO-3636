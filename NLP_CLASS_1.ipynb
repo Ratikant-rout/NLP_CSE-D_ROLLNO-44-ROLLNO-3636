{
  "nbformat": 4,
  "nbformat_minor": 0,
  "metadata": {
    "colab": {
      "provenance": [],
      "authorship_tag": "ABX9TyODr3Kh5p/zUZB6vcC12rQu",
      "include_colab_link": true
    },
    "kernelspec": {
      "name": "python3",
      "display_name": "Python 3"
    },
    "language_info": {
      "name": "python"
    }
  },
  "cells": [
    {
      "cell_type": "markdown",
      "metadata": {
        "id": "view-in-github",
        "colab_type": "text"
      },
      "source": [
        "<a href=\"https://colab.research.google.com/github/Ratikant-rout/NLP_CSE-D_ROLLNO-44-ROLLNO-3636/blob/main/NLP_CLASS_1.ipynb\" target=\"_parent\"><img src=\"https://colab.research.google.com/assets/colab-badge.svg\" alt=\"Open In Colab\"/></a>"
      ]
    },
    {
      "cell_type": "code",
      "execution_count": 1,
      "metadata": {
        "id": "V0Dkarw46-7r"
      },
      "outputs": [],
      "source": [
        "import nltk"
      ]
    },
    {
      "cell_type": "code",
      "source": [
        "corpus = \"Hello there, how are you? I am From Mumbai\"\n",
        "nltk.download('punkt')\n"
      ],
      "metadata": {
        "colab": {
          "base_uri": "https://localhost:8080/"
        },
        "id": "y1z6-6rS7CZB",
        "outputId": "768db4c4-b712-4dee-98cb-6aac49e4e936"
      },
      "execution_count": 2,
      "outputs": [
        {
          "output_type": "stream",
          "name": "stderr",
          "text": [
            "[nltk_data] Downloading package punkt to /root/nltk_data...\n",
            "[nltk_data]   Unzipping tokenizers/punkt.zip.\n"
          ]
        },
        {
          "output_type": "execute_result",
          "data": {
            "text/plain": [
              "True"
            ]
          },
          "metadata": {},
          "execution_count": 2
        }
      ]
    },
    {
      "cell_type": "code",
      "source": [
        "nltk.download('punkt_tab')"
      ],
      "metadata": {
        "colab": {
          "base_uri": "https://localhost:8080/"
        },
        "id": "OkAsm3A17CcD",
        "outputId": "526e5230-2e7a-4336-d3df-436c48df6d0f"
      },
      "execution_count": 3,
      "outputs": [
        {
          "output_type": "stream",
          "name": "stderr",
          "text": [
            "[nltk_data] Downloading package punkt_tab to /root/nltk_data...\n",
            "[nltk_data]   Unzipping tokenizers/punkt_tab.zip.\n"
          ]
        },
        {
          "output_type": "execute_result",
          "data": {
            "text/plain": [
              "True"
            ]
          },
          "metadata": {},
          "execution_count": 3
        }
      ]
    },
    {
      "cell_type": "code",
      "source": [
        "nltk.sent_tokenize(corpus)"
      ],
      "metadata": {
        "colab": {
          "base_uri": "https://localhost:8080/"
        },
        "id": "D5lfBnpx7CfY",
        "outputId": "64f80478-33df-4a93-df7f-a3288af70c35"
      },
      "execution_count": 4,
      "outputs": [
        {
          "output_type": "execute_result",
          "data": {
            "text/plain": [
              "['Hello there, how are you?', 'I am From Mumbai']"
            ]
          },
          "metadata": {},
          "execution_count": 4
        }
      ]
    },
    {
      "cell_type": "code",
      "source": [
        "corpus2 = 'Wisdoms daughter walks alone. The mark of Athena burns through rome'"
      ],
      "metadata": {
        "id": "0iItofbl7c8K"
      },
      "execution_count": 5,
      "outputs": []
    },
    {
      "cell_type": "code",
      "source": [
        "print(corpus2)"
      ],
      "metadata": {
        "colab": {
          "base_uri": "https://localhost:8080/"
        },
        "id": "bjeaReU38a0V",
        "outputId": "83bc4eeb-e072-47a2-f0c6-fcc1d9a91f94"
      },
      "execution_count": 6,
      "outputs": [
        {
          "output_type": "stream",
          "name": "stdout",
          "text": [
            "Wisdoms daughter walks alone. The mark of Athena burns through rome\n"
          ]
        }
      ]
    },
    {
      "cell_type": "code",
      "source": [
        "text = \"'To Sleep Or NOT to SLEep, THAT is THe Question'\"\n",
        "\n",
        "def lower_case(text):\n",
        "  lower_text=text.lower()\n",
        "  return lower_text"
      ],
      "metadata": {
        "id": "IXZK_9uM8eE4"
      },
      "execution_count": 7,
      "outputs": []
    },
    {
      "cell_type": "code",
      "source": [
        "lower_case = lower_case(text)\n",
        "print(lower_case)"
      ],
      "metadata": {
        "colab": {
          "base_uri": "https://localhost:8080/"
        },
        "id": "20G-7WaT8vHG",
        "outputId": "e319f76b-8dbd-42de-c7e4-db2232923985"
      },
      "execution_count": 8,
      "outputs": [
        {
          "output_type": "stream",
          "name": "stdout",
          "text": [
            "'to sleep or not to sleep, that is the question'\n"
          ]
        }
      ]
    },
    {
      "cell_type": "code",
      "source": [],
      "metadata": {
        "id": "QzcVLc2I8-Ml"
      },
      "execution_count": 8,
      "outputs": []
    },
    {
      "cell_type": "markdown",
      "source": [
        "# Remove Puncuation\n"
      ],
      "metadata": {
        "id": "EW1RsCpi98Ns"
      }
    },
    {
      "cell_type": "code",
      "source": [
        "import re"
      ],
      "metadata": {
        "id": "VU2WerSG-CkN"
      },
      "execution_count": 9,
      "outputs": []
    },
    {
      "cell_type": "code",
      "source": [
        "corpus = \"The 3 advanced application of NLP applying ML in 2025 with usability % 89.6., and user feedback of 78.908. !! (& >>.\"\n",
        "def remove_punctuations(corpus):\n",
        "    punctuation = re.compile(r'[{};():,.\"/<>-]')\n",
        "    corpus = punctuation.sub(' ', text)\n",
        "    return corpus\n",
        "\n",
        "clean_corpus = remove_punctuations(corpus)\n",
        "print(clean_text)"
      ],
      "metadata": {
        "colab": {
          "base_uri": "https://localhost:8080/"
        },
        "id": "LjSX9AiC-Cng",
        "outputId": "0faba8e2-4859-4ca5-c9f7-5ba4f78dce8a"
      },
      "execution_count": 27,
      "outputs": [
        {
          "output_type": "stream",
          "name": "stdout",
          "text": [
            "The 3 advanced application of NLP applying ML in 2025 with usability % 89 6   and user feedback of 78 908  !!  &    \n"
          ]
        }
      ]
    },
    {
      "cell_type": "code",
      "source": [],
      "metadata": {
        "id": "vkwIx87A-Cq-"
      },
      "execution_count": 27,
      "outputs": []
    },
    {
      "cell_type": "markdown",
      "source": [
        "# Tokenization\n"
      ],
      "metadata": {
        "id": "sfnNBKItCFzw"
      }
    },
    {
      "cell_type": "code",
      "source": [],
      "metadata": {
        "id": "y_TnXV3oAbwD"
      },
      "execution_count": 27,
      "outputs": []
    },
    {
      "cell_type": "code",
      "source": [
        "#Tokenize\n",
        "from nltk.tokenize import sent_tokenize"
      ],
      "metadata": {
        "id": "FQiyzew9AuyG"
      },
      "execution_count": 28,
      "outputs": []
    },
    {
      "cell_type": "code",
      "source": [
        "\n",
        "import nltk\n",
        "nltk.download('punkt_tab')"
      ],
      "metadata": {
        "colab": {
          "base_uri": "https://localhost:8080/"
        },
        "id": "XvEO0rKPAzC8",
        "outputId": "be6a1c9c-4256-4026-d265-6169172c1a23"
      },
      "execution_count": 29,
      "outputs": [
        {
          "output_type": "stream",
          "name": "stderr",
          "text": [
            "[nltk_data] Downloading package punkt_tab to /root/nltk_data...\n",
            "[nltk_data]   Package punkt_tab is already up-to-date!\n"
          ]
        },
        {
          "output_type": "execute_result",
          "data": {
            "text/plain": [
              "True"
            ]
          },
          "metadata": {},
          "execution_count": 29
        }
      ]
    },
    {
      "cell_type": "code",
      "source": [
        "from nltk.tokenize import sent_tokenize\n",
        "\n",
        "documents = sent_tokenize(corpus)\n",
        "print(documents)"
      ],
      "metadata": {
        "colab": {
          "base_uri": "https://localhost:8080/"
        },
        "id": "jq8y7UKgBr5N",
        "outputId": "04f894b2-e3dc-40ac-dd2f-f74c0b5ff0c6"
      },
      "execution_count": 30,
      "outputs": [
        {
          "output_type": "stream",
          "name": "stdout",
          "text": [
            "['The 3 advanced application of NLP applying ML in 2025 with usability % 89.6., and user feedback of 78.908.', '!', '!', '(& >>.']\n"
          ]
        }
      ]
    },
    {
      "cell_type": "code",
      "source": [
        "from nltk.tokenize import word_tokenize"
      ],
      "metadata": {
        "id": "Qv3MDUF3Cu3D"
      },
      "execution_count": 31,
      "outputs": []
    },
    {
      "cell_type": "code",
      "source": [
        "word_tokenize(corpus)"
      ],
      "metadata": {
        "colab": {
          "base_uri": "https://localhost:8080/"
        },
        "id": "sj-VXFuWDHKE",
        "outputId": "8beb6994-e18c-4dca-bc94-9c589bf4ad57"
      },
      "execution_count": 32,
      "outputs": [
        {
          "output_type": "execute_result",
          "data": {
            "text/plain": [
              "['The',\n",
              " '3',\n",
              " 'advanced',\n",
              " 'application',\n",
              " 'of',\n",
              " 'NLP',\n",
              " 'applying',\n",
              " 'ML',\n",
              " 'in',\n",
              " '2025',\n",
              " 'with',\n",
              " 'usability',\n",
              " '%',\n",
              " '89.6.',\n",
              " ',',\n",
              " 'and',\n",
              " 'user',\n",
              " 'feedback',\n",
              " 'of',\n",
              " '78.908',\n",
              " '.',\n",
              " '!',\n",
              " '!',\n",
              " '(',\n",
              " '&',\n",
              " '>',\n",
              " '>',\n",
              " '.']"
            ]
          },
          "metadata": {},
          "execution_count": 32
        }
      ]
    },
    {
      "cell_type": "code",
      "source": [],
      "metadata": {
        "id": "fFuEuZIjDHTG"
      },
      "execution_count": null,
      "outputs": []
    },
    {
      "cell_type": "markdown",
      "source": [
        "# Removing Stop words"
      ],
      "metadata": {
        "id": "YbCvpX07C1Ec"
      }
    },
    {
      "cell_type": "code",
      "source": [
        "corpus_tokens = word_tokenize(corpus)\n",
        "\n",
        "stop_words = set(stopwords.words('english'))\n",
        "filtered_tokens = [word for word in corpus_tokens if word.lower() not in stop_words and word not in string.punctuation]\n",
        "\n",
        "print(filtered_tokens)"
      ],
      "metadata": {
        "id": "p7lVsATPC5RG",
        "colab": {
          "base_uri": "https://localhost:8080/"
        },
        "outputId": "10a526f5-56f9-4384-ab5b-f1f5f329b21f"
      },
      "execution_count": 33,
      "outputs": [
        {
          "output_type": "stream",
          "name": "stdout",
          "text": [
            "['3', 'advanced', 'application', 'NLP', 'applying', 'ML', '2025', 'usability', '89.6.', 'user', 'feedback', '78.908']\n"
          ]
        }
      ]
    },
    {
      "cell_type": "code",
      "source": [
        "# Remove Numbers\n",
        "no_numbers = [word for word in filtered_tokens if not any(char.isdigit() for char in word)]\n",
        "print(no_numbers)\n",
        "\n",
        "new_corpus = ' '.join(no_numbers)\n",
        "print(new_corpus)"
      ],
      "metadata": {
        "id": "QNFddY3pC5T8",
        "colab": {
          "base_uri": "https://localhost:8080/"
        },
        "outputId": "7f7250c5-a6a1-4e5f-bfa0-798f5d6f9575"
      },
      "execution_count": 38,
      "outputs": [
        {
          "output_type": "stream",
          "name": "stdout",
          "text": [
            "['advanced', 'application', 'NLP', 'applying', 'ML', 'usability', 'user', 'feedback']\n",
            "advanced application NLP applying ML usability user feedback\n"
          ]
        }
      ]
    },
    {
      "cell_type": "markdown",
      "source": [
        "# Stemming And Lemmatization"
      ],
      "metadata": {
        "id": "zvHswNhnBVsV"
      }
    },
    {
      "cell_type": "code",
      "source": [
        "\n",
        "tokens = word_tokenize(new_corpus)\n",
        "stop_words = set(stopwords.words('english'))\n",
        "filtered_tokens = [word for word in tokens if word.lower() not in stop_words and word not in string.punctuation]\n",
        "\n",
        "stemmer = PorterStemmer()\n",
        "stemmed_tokens = [stemmer.stem(word) for word in filtered_tokens]\n",
        "\n",
        "print(stemmed_tokens,end=' ')"
      ],
      "metadata": {
        "id": "1bts3gjIC5XX",
        "colab": {
          "base_uri": "https://localhost:8080/"
        },
        "outputId": "40f5e097-39b1-482d-f40f-ba8ae2fd9351"
      },
      "execution_count": 39,
      "outputs": [
        {
          "output_type": "stream",
          "name": "stdout",
          "text": [
            "['advanc', 'applic', 'nlp', 'appli', 'ml', 'usabl', 'user', 'feedback'] "
          ]
        }
      ]
    },
    {
      "cell_type": "code",
      "source": [],
      "metadata": {
        "id": "EzChkhjpBiOq"
      },
      "execution_count": null,
      "outputs": []
    },
    {
      "cell_type": "markdown",
      "source": [
        "#  Pos Tagging"
      ],
      "metadata": {
        "id": "hqgV5f4xC7aM"
      }
    },
    {
      "cell_type": "code",
      "source": [
        "# Input\n",
        "corpus = \"The 3 advanced application of NLP applying ML in 2025 with usability % 89.6., and user feedback of 78.908. !! (& >>.\"\n",
        "\n",
        "tokens = word_tokenize(corpus)\n",
        "filtered = [w for w in tokens if w.lower() not in stopwords.words('english') and w not in string.punctuation]\n",
        "no_numbers = [w for w in filtered if not any(char.isdigit() for char in w)]\n",
        "\n",
        "pos_tags = nltk.pos_tag(no_numbers) # Number Removal\n",
        "\n",
        "stemmer = PorterStemmer() #Potter Stemmer\n",
        "stemmed_tokens = [(stemmer.stem(word), tag) for word, tag in pos_tags]\n",
        "\n",
        "print(\"POS Tags:\", pos_tags)\n",
        "print(\"Stemmed + POS:\", stemmed_tokens)\n"
      ],
      "metadata": {
        "colab": {
          "base_uri": "https://localhost:8080/"
        },
        "id": "ytApWpRTDAaE",
        "outputId": "e72bf487-d68b-4793-cd21-4790028eb433"
      },
      "execution_count": 49,
      "outputs": [
        {
          "output_type": "stream",
          "name": "stdout",
          "text": [
            "POS Tags: [('advanced', 'JJ'), ('application', 'NN'), ('NLP', 'NNP'), ('applying', 'VBG'), ('ML', 'NNP'), ('usability', 'NN'), ('user', 'NN'), ('feedback', 'NN')]\n",
            "Stemmed + POS: [('advanc', 'JJ'), ('applic', 'NN'), ('nlp', 'NNP'), ('appli', 'VBG'), ('ml', 'NNP'), ('usabl', 'NN'), ('user', 'NN'), ('feedback', 'NN')]\n"
          ]
        }
      ]
    },
    {
      "cell_type": "code",
      "source": [
        "nltk.download('words')\n",
        "nltk.download('maxent_ne_chunker_tab')\n",
        "ner_tree = nltk.ne_chunk(pos_tags)\n",
        "print(\"POS Tags:\\n\", pos_tags)\n",
        "print(\"\\nNamed Entities:\\n\", ner_tree)"
      ],
      "metadata": {
        "colab": {
          "base_uri": "https://localhost:8080/"
        },
        "id": "WRxyV1rkDAiX",
        "outputId": "aee98729-6af6-474f-8599-28c14a66aeb0"
      },
      "execution_count": 52,
      "outputs": [
        {
          "output_type": "stream",
          "name": "stderr",
          "text": [
            "[nltk_data] Downloading package words to /root/nltk_data...\n",
            "[nltk_data]   Unzipping corpora/words.zip.\n",
            "[nltk_data] Downloading package maxent_ne_chunker_tab to\n",
            "[nltk_data]     /root/nltk_data...\n",
            "[nltk_data]   Package maxent_ne_chunker_tab is already up-to-date!\n"
          ]
        },
        {
          "output_type": "stream",
          "name": "stdout",
          "text": [
            "POS Tags:\n",
            " [('advanced', 'JJ'), ('application', 'NN'), ('NLP', 'NNP'), ('applying', 'VBG'), ('ML', 'NNP'), ('usability', 'NN'), ('user', 'NN'), ('feedback', 'NN')]\n",
            "\n",
            "Named Entities:\n",
            " (S\n",
            "  advanced/JJ\n",
            "  application/NN\n",
            "  NLP/NNP\n",
            "  applying/VBG\n",
            "  ML/NNP\n",
            "  usability/NN\n",
            "  user/NN\n",
            "  feedback/NN)\n"
          ]
        }
      ]
    },
    {
      "cell_type": "code",
      "source": [],
      "metadata": {
        "id": "tFBdyNlfEcCy"
      },
      "execution_count": null,
      "outputs": []
    }
  ]
}